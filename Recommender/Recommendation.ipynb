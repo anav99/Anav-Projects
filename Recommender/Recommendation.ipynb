{
  "nbformat": 4,
  "nbformat_minor": 0,
  "metadata": {
    "colab": {
      "provenance": []
    },
    "kernelspec": {
      "name": "python3",
      "display_name": "Python 3"
    },
    "language_info": {
      "name": "python"
    }
  },
  "cells": [
    {
      "cell_type": "markdown",
      "source": [
        "# RECOMMENDATION SYSTEM USING YELP DATASET"
      ],
      "metadata": {
        "id": "Uxcl9utP7XHI"
      }
    },
    {
      "cell_type": "markdown",
      "source": [
        "## BASIC MODEL"
      ],
      "metadata": {
        "id": "ZWQI3_4xH_lk"
      }
    },
    {
      "cell_type": "markdown",
      "source": [
        "## INSTALLING LIBRARIES\n"
      ],
      "metadata": {
        "id": "jxpCiAU87M8J"
      }
    },
    {
      "cell_type": "code",
      "execution_count": 172,
      "metadata": {
        "colab": {
          "base_uri": "https://localhost:8080/"
        },
        "id": "Zd8evtWujvX7",
        "outputId": "d29740a3-1426-4116-8e48-9a234cfa032f"
      },
      "outputs": [
        {
          "output_type": "stream",
          "name": "stdout",
          "text": [
            "Requirement already satisfied: pandas in /usr/local/lib/python3.10/dist-packages (1.5.3)\n",
            "Requirement already satisfied: python-dateutil>=2.8.1 in /usr/local/lib/python3.10/dist-packages (from pandas) (2.8.2)\n",
            "Requirement already satisfied: pytz>=2020.1 in /usr/local/lib/python3.10/dist-packages (from pandas) (2022.7.1)\n",
            "Requirement already satisfied: numpy>=1.21.0 in /usr/local/lib/python3.10/dist-packages (from pandas) (1.22.4)\n",
            "Requirement already satisfied: six>=1.5 in /usr/local/lib/python3.10/dist-packages (from python-dateutil>=2.8.1->pandas) (1.16.0)\n",
            "Requirement already satisfied: numpy in /usr/local/lib/python3.10/dist-packages (1.22.4)\n",
            "Requirement already satisfied: sklearn in /usr/local/lib/python3.10/dist-packages (0.0.post5)\n",
            "Requirement already satisfied: scipy in /usr/local/lib/python3.10/dist-packages (1.10.1)\n",
            "Requirement already satisfied: numpy<1.27.0,>=1.19.5 in /usr/local/lib/python3.10/dist-packages (from scipy) (1.22.4)\n"
          ]
        }
      ],
      "source": [
        "!pip install pandas\n",
        "!pip install numpy\n",
        "!pip install sklearn\n",
        "!pip install scipy\n"
      ]
    },
    {
      "cell_type": "markdown",
      "source": [
        "## IMPORTING LIBRARIES"
      ],
      "metadata": {
        "id": "JIN9kf2d7RWN"
      }
    },
    {
      "cell_type": "code",
      "source": [
        "import pandas as pd\n",
        "import numpy as np\n",
        "from google.colab import drive\n",
        "import json\n"
      ],
      "metadata": {
        "id": "zF6EOiBqj8pB"
      },
      "execution_count": 173,
      "outputs": []
    },
    {
      "cell_type": "markdown",
      "source": [
        "## MOUNTING GOOGLE DRIVE"
      ],
      "metadata": {
        "id": "7JLnUHS07eeC"
      }
    },
    {
      "cell_type": "code",
      "source": [
        "drive.mount(\"/content/drive\")"
      ],
      "metadata": {
        "colab": {
          "base_uri": "https://localhost:8080/"
        },
        "id": "SM1r8w0QknIk",
        "outputId": "655412c1-3b89-4552-a1d2-48b35b47b803"
      },
      "execution_count": 174,
      "outputs": [
        {
          "output_type": "stream",
          "name": "stdout",
          "text": [
            "Drive already mounted at /content/drive; to attempt to forcibly remount, call drive.mount(\"/content/drive\", force_remount=True).\n"
          ]
        }
      ]
    },
    {
      "cell_type": "markdown",
      "source": [
        "LOADING BUSINESS.JSON"
      ],
      "metadata": {
        "id": "6ovA7TYe7hoi"
      }
    },
    {
      "cell_type": "code",
      "source": [
        "business_df=pd.read_json(\"drive/MyDrive/YELP/yelp_academic_dataset_business.json\",lines=True)"
      ],
      "metadata": {
        "id": "NB9ppIaNp1MZ"
      },
      "execution_count": 175,
      "outputs": []
    },
    {
      "cell_type": "code",
      "source": [
        "business_df[\"name\"].nunique()"
      ],
      "metadata": {
        "colab": {
          "base_uri": "https://localhost:8080/"
        },
        "id": "ftpI-a5QRxeY",
        "outputId": "e37401d0-b886-4b79-b86b-0a3242615d40"
      },
      "execution_count": 176,
      "outputs": [
        {
          "output_type": "execute_result",
          "data": {
            "text/plain": [
              "114117"
            ]
          },
          "metadata": {},
          "execution_count": 176
        }
      ]
    },
    {
      "cell_type": "code",
      "source": [
        "business_df.head()"
      ],
      "metadata": {
        "colab": {
          "base_uri": "https://localhost:8080/",
          "height": 617
        },
        "id": "Y0Tf2UuV1Njc",
        "outputId": "95a11767-a3fd-46f1-c1c8-c25233d3f049"
      },
      "execution_count": 177,
      "outputs": [
        {
          "output_type": "execute_result",
          "data": {
            "text/plain": [
              "              business_id                      name  \\\n",
              "0  Pns2l4eNsfO8kk83dixA6A  Abby Rappoport, LAC, CMQ   \n",
              "1  mpf3x-BjTdTEA3yCZrAYPw             The UPS Store   \n",
              "2  tUFrWirKiKi_TAnsVWINQQ                    Target   \n",
              "3  MTSW4McQd7CbVtyjqoe9mw        St Honore Pastries   \n",
              "4  mWMc6_wTdE0EUBKIGXDVfA  Perkiomen Valley Brewery   \n",
              "\n",
              "                           address           city state postal_code  \\\n",
              "0           1616 Chapala St, Ste 2  Santa Barbara    CA       93101   \n",
              "1  87 Grasso Plaza Shopping Center         Affton    MO       63123   \n",
              "2             5255 E Broadway Blvd         Tucson    AZ       85711   \n",
              "3                      935 Race St   Philadelphia    PA       19107   \n",
              "4                    101 Walnut St     Green Lane    PA       18054   \n",
              "\n",
              "    latitude   longitude  stars  review_count  is_open  \\\n",
              "0  34.426679 -119.711197    5.0             7        0   \n",
              "1  38.551126  -90.335695    3.0            15        1   \n",
              "2  32.223236 -110.880452    3.5            22        0   \n",
              "3  39.955505  -75.155564    4.0            80        1   \n",
              "4  40.338183  -75.471659    4.5            13        1   \n",
              "\n",
              "                                          attributes  \\\n",
              "0                      {'ByAppointmentOnly': 'True'}   \n",
              "1             {'BusinessAcceptsCreditCards': 'True'}   \n",
              "2  {'BikeParking': 'True', 'BusinessAcceptsCredit...   \n",
              "3  {'RestaurantsDelivery': 'False', 'OutdoorSeati...   \n",
              "4  {'BusinessAcceptsCreditCards': 'True', 'Wheelc...   \n",
              "\n",
              "                                          categories  \\\n",
              "0  Doctors, Traditional Chinese Medicine, Naturop...   \n",
              "1  Shipping Centers, Local Services, Notaries, Ma...   \n",
              "2  Department Stores, Shopping, Fashion, Home & G...   \n",
              "3  Restaurants, Food, Bubble Tea, Coffee & Tea, B...   \n",
              "4                          Brewpubs, Breweries, Food   \n",
              "\n",
              "                                               hours  \n",
              "0                                               None  \n",
              "1  {'Monday': '0:0-0:0', 'Tuesday': '8:0-18:30', ...  \n",
              "2  {'Monday': '8:0-22:0', 'Tuesday': '8:0-22:0', ...  \n",
              "3  {'Monday': '7:0-20:0', 'Tuesday': '7:0-20:0', ...  \n",
              "4  {'Wednesday': '14:0-22:0', 'Thursday': '16:0-2...  "
            ],
            "text/html": [
              "\n",
              "\n",
              "  <div id=\"df-66b8551b-0cc9-4214-a1d6-1e0b424db535\">\n",
              "    <div class=\"colab-df-container\">\n",
              "      <div>\n",
              "<style scoped>\n",
              "    .dataframe tbody tr th:only-of-type {\n",
              "        vertical-align: middle;\n",
              "    }\n",
              "\n",
              "    .dataframe tbody tr th {\n",
              "        vertical-align: top;\n",
              "    }\n",
              "\n",
              "    .dataframe thead th {\n",
              "        text-align: right;\n",
              "    }\n",
              "</style>\n",
              "<table border=\"1\" class=\"dataframe\">\n",
              "  <thead>\n",
              "    <tr style=\"text-align: right;\">\n",
              "      <th></th>\n",
              "      <th>business_id</th>\n",
              "      <th>name</th>\n",
              "      <th>address</th>\n",
              "      <th>city</th>\n",
              "      <th>state</th>\n",
              "      <th>postal_code</th>\n",
              "      <th>latitude</th>\n",
              "      <th>longitude</th>\n",
              "      <th>stars</th>\n",
              "      <th>review_count</th>\n",
              "      <th>is_open</th>\n",
              "      <th>attributes</th>\n",
              "      <th>categories</th>\n",
              "      <th>hours</th>\n",
              "    </tr>\n",
              "  </thead>\n",
              "  <tbody>\n",
              "    <tr>\n",
              "      <th>0</th>\n",
              "      <td>Pns2l4eNsfO8kk83dixA6A</td>\n",
              "      <td>Abby Rappoport, LAC, CMQ</td>\n",
              "      <td>1616 Chapala St, Ste 2</td>\n",
              "      <td>Santa Barbara</td>\n",
              "      <td>CA</td>\n",
              "      <td>93101</td>\n",
              "      <td>34.426679</td>\n",
              "      <td>-119.711197</td>\n",
              "      <td>5.0</td>\n",
              "      <td>7</td>\n",
              "      <td>0</td>\n",
              "      <td>{'ByAppointmentOnly': 'True'}</td>\n",
              "      <td>Doctors, Traditional Chinese Medicine, Naturop...</td>\n",
              "      <td>None</td>\n",
              "    </tr>\n",
              "    <tr>\n",
              "      <th>1</th>\n",
              "      <td>mpf3x-BjTdTEA3yCZrAYPw</td>\n",
              "      <td>The UPS Store</td>\n",
              "      <td>87 Grasso Plaza Shopping Center</td>\n",
              "      <td>Affton</td>\n",
              "      <td>MO</td>\n",
              "      <td>63123</td>\n",
              "      <td>38.551126</td>\n",
              "      <td>-90.335695</td>\n",
              "      <td>3.0</td>\n",
              "      <td>15</td>\n",
              "      <td>1</td>\n",
              "      <td>{'BusinessAcceptsCreditCards': 'True'}</td>\n",
              "      <td>Shipping Centers, Local Services, Notaries, Ma...</td>\n",
              "      <td>{'Monday': '0:0-0:0', 'Tuesday': '8:0-18:30', ...</td>\n",
              "    </tr>\n",
              "    <tr>\n",
              "      <th>2</th>\n",
              "      <td>tUFrWirKiKi_TAnsVWINQQ</td>\n",
              "      <td>Target</td>\n",
              "      <td>5255 E Broadway Blvd</td>\n",
              "      <td>Tucson</td>\n",
              "      <td>AZ</td>\n",
              "      <td>85711</td>\n",
              "      <td>32.223236</td>\n",
              "      <td>-110.880452</td>\n",
              "      <td>3.5</td>\n",
              "      <td>22</td>\n",
              "      <td>0</td>\n",
              "      <td>{'BikeParking': 'True', 'BusinessAcceptsCredit...</td>\n",
              "      <td>Department Stores, Shopping, Fashion, Home &amp; G...</td>\n",
              "      <td>{'Monday': '8:0-22:0', 'Tuesday': '8:0-22:0', ...</td>\n",
              "    </tr>\n",
              "    <tr>\n",
              "      <th>3</th>\n",
              "      <td>MTSW4McQd7CbVtyjqoe9mw</td>\n",
              "      <td>St Honore Pastries</td>\n",
              "      <td>935 Race St</td>\n",
              "      <td>Philadelphia</td>\n",
              "      <td>PA</td>\n",
              "      <td>19107</td>\n",
              "      <td>39.955505</td>\n",
              "      <td>-75.155564</td>\n",
              "      <td>4.0</td>\n",
              "      <td>80</td>\n",
              "      <td>1</td>\n",
              "      <td>{'RestaurantsDelivery': 'False', 'OutdoorSeati...</td>\n",
              "      <td>Restaurants, Food, Bubble Tea, Coffee &amp; Tea, B...</td>\n",
              "      <td>{'Monday': '7:0-20:0', 'Tuesday': '7:0-20:0', ...</td>\n",
              "    </tr>\n",
              "    <tr>\n",
              "      <th>4</th>\n",
              "      <td>mWMc6_wTdE0EUBKIGXDVfA</td>\n",
              "      <td>Perkiomen Valley Brewery</td>\n",
              "      <td>101 Walnut St</td>\n",
              "      <td>Green Lane</td>\n",
              "      <td>PA</td>\n",
              "      <td>18054</td>\n",
              "      <td>40.338183</td>\n",
              "      <td>-75.471659</td>\n",
              "      <td>4.5</td>\n",
              "      <td>13</td>\n",
              "      <td>1</td>\n",
              "      <td>{'BusinessAcceptsCreditCards': 'True', 'Wheelc...</td>\n",
              "      <td>Brewpubs, Breweries, Food</td>\n",
              "      <td>{'Wednesday': '14:0-22:0', 'Thursday': '16:0-2...</td>\n",
              "    </tr>\n",
              "  </tbody>\n",
              "</table>\n",
              "</div>\n",
              "      <button class=\"colab-df-convert\" onclick=\"convertToInteractive('df-66b8551b-0cc9-4214-a1d6-1e0b424db535')\"\n",
              "              title=\"Convert this dataframe to an interactive table.\"\n",
              "              style=\"display:none;\">\n",
              "\n",
              "  <svg xmlns=\"http://www.w3.org/2000/svg\" height=\"24px\"viewBox=\"0 0 24 24\"\n",
              "       width=\"24px\">\n",
              "    <path d=\"M0 0h24v24H0V0z\" fill=\"none\"/>\n",
              "    <path d=\"M18.56 5.44l.94 2.06.94-2.06 2.06-.94-2.06-.94-.94-2.06-.94 2.06-2.06.94zm-11 1L8.5 8.5l.94-2.06 2.06-.94-2.06-.94L8.5 2.5l-.94 2.06-2.06.94zm10 10l.94 2.06.94-2.06 2.06-.94-2.06-.94-.94-2.06-.94 2.06-2.06.94z\"/><path d=\"M17.41 7.96l-1.37-1.37c-.4-.4-.92-.59-1.43-.59-.52 0-1.04.2-1.43.59L10.3 9.45l-7.72 7.72c-.78.78-.78 2.05 0 2.83L4 21.41c.39.39.9.59 1.41.59.51 0 1.02-.2 1.41-.59l7.78-7.78 2.81-2.81c.8-.78.8-2.07 0-2.86zM5.41 20L4 18.59l7.72-7.72 1.47 1.35L5.41 20z\"/>\n",
              "  </svg>\n",
              "      </button>\n",
              "\n",
              "\n",
              "\n",
              "    <div id=\"df-eae7dfbc-f112-49a1-8410-ac7e8db3c44b\">\n",
              "      <button class=\"colab-df-quickchart\" onclick=\"quickchart('df-eae7dfbc-f112-49a1-8410-ac7e8db3c44b')\"\n",
              "              title=\"Suggest charts.\"\n",
              "              style=\"display:none;\">\n",
              "\n",
              "<svg xmlns=\"http://www.w3.org/2000/svg\" height=\"24px\"viewBox=\"0 0 24 24\"\n",
              "     width=\"24px\">\n",
              "    <g>\n",
              "        <path d=\"M19 3H5c-1.1 0-2 .9-2 2v14c0 1.1.9 2 2 2h14c1.1 0 2-.9 2-2V5c0-1.1-.9-2-2-2zM9 17H7v-7h2v7zm4 0h-2V7h2v10zm4 0h-2v-4h2v4z\"/>\n",
              "    </g>\n",
              "</svg>\n",
              "      </button>\n",
              "    </div>\n",
              "\n",
              "<style>\n",
              "  .colab-df-quickchart {\n",
              "    background-color: #E8F0FE;\n",
              "    border: none;\n",
              "    border-radius: 50%;\n",
              "    cursor: pointer;\n",
              "    display: none;\n",
              "    fill: #1967D2;\n",
              "    height: 32px;\n",
              "    padding: 0 0 0 0;\n",
              "    width: 32px;\n",
              "  }\n",
              "\n",
              "  .colab-df-quickchart:hover {\n",
              "    background-color: #E2EBFA;\n",
              "    box-shadow: 0px 1px 2px rgba(60, 64, 67, 0.3), 0px 1px 3px 1px rgba(60, 64, 67, 0.15);\n",
              "    fill: #174EA6;\n",
              "  }\n",
              "\n",
              "  [theme=dark] .colab-df-quickchart {\n",
              "    background-color: #3B4455;\n",
              "    fill: #D2E3FC;\n",
              "  }\n",
              "\n",
              "  [theme=dark] .colab-df-quickchart:hover {\n",
              "    background-color: #434B5C;\n",
              "    box-shadow: 0px 1px 3px 1px rgba(0, 0, 0, 0.15);\n",
              "    filter: drop-shadow(0px 1px 2px rgba(0, 0, 0, 0.3));\n",
              "    fill: #FFFFFF;\n",
              "  }\n",
              "</style>\n",
              "\n",
              "    <script>\n",
              "      async function quickchart(key) {\n",
              "        const containerElement = document.querySelector('#' + key);\n",
              "        const charts = await google.colab.kernel.invokeFunction(\n",
              "            'suggestCharts', [key], {});\n",
              "      }\n",
              "    </script>\n",
              "\n",
              "      <script>\n",
              "\n",
              "function displayQuickchartButton(domScope) {\n",
              "  let quickchartButtonEl =\n",
              "    domScope.querySelector('#df-eae7dfbc-f112-49a1-8410-ac7e8db3c44b button.colab-df-quickchart');\n",
              "  quickchartButtonEl.style.display =\n",
              "    google.colab.kernel.accessAllowed ? 'block' : 'none';\n",
              "}\n",
              "\n",
              "        displayQuickchartButton(document);\n",
              "      </script>\n",
              "      <style>\n",
              "    .colab-df-container {\n",
              "      display:flex;\n",
              "      flex-wrap:wrap;\n",
              "      gap: 12px;\n",
              "    }\n",
              "\n",
              "    .colab-df-convert {\n",
              "      background-color: #E8F0FE;\n",
              "      border: none;\n",
              "      border-radius: 50%;\n",
              "      cursor: pointer;\n",
              "      display: none;\n",
              "      fill: #1967D2;\n",
              "      height: 32px;\n",
              "      padding: 0 0 0 0;\n",
              "      width: 32px;\n",
              "    }\n",
              "\n",
              "    .colab-df-convert:hover {\n",
              "      background-color: #E2EBFA;\n",
              "      box-shadow: 0px 1px 2px rgba(60, 64, 67, 0.3), 0px 1px 3px 1px rgba(60, 64, 67, 0.15);\n",
              "      fill: #174EA6;\n",
              "    }\n",
              "\n",
              "    [theme=dark] .colab-df-convert {\n",
              "      background-color: #3B4455;\n",
              "      fill: #D2E3FC;\n",
              "    }\n",
              "\n",
              "    [theme=dark] .colab-df-convert:hover {\n",
              "      background-color: #434B5C;\n",
              "      box-shadow: 0px 1px 3px 1px rgba(0, 0, 0, 0.15);\n",
              "      filter: drop-shadow(0px 1px 2px rgba(0, 0, 0, 0.3));\n",
              "      fill: #FFFFFF;\n",
              "    }\n",
              "  </style>\n",
              "\n",
              "      <script>\n",
              "        const buttonEl =\n",
              "          document.querySelector('#df-66b8551b-0cc9-4214-a1d6-1e0b424db535 button.colab-df-convert');\n",
              "        buttonEl.style.display =\n",
              "          google.colab.kernel.accessAllowed ? 'block' : 'none';\n",
              "\n",
              "        async function convertToInteractive(key) {\n",
              "          const element = document.querySelector('#df-66b8551b-0cc9-4214-a1d6-1e0b424db535');\n",
              "          const dataTable =\n",
              "            await google.colab.kernel.invokeFunction('convertToInteractive',\n",
              "                                                     [key], {});\n",
              "          if (!dataTable) return;\n",
              "\n",
              "          const docLinkHtml = 'Like what you see? Visit the ' +\n",
              "            '<a target=\"_blank\" href=https://colab.research.google.com/notebooks/data_table.ipynb>data table notebook</a>'\n",
              "            + ' to learn more about interactive tables.';\n",
              "          element.innerHTML = '';\n",
              "          dataTable['output_type'] = 'display_data';\n",
              "          await google.colab.output.renderOutput(dataTable, element);\n",
              "          const docLink = document.createElement('div');\n",
              "          docLink.innerHTML = docLinkHtml;\n",
              "          element.appendChild(docLink);\n",
              "        }\n",
              "      </script>\n",
              "    </div>\n",
              "  </div>\n"
            ]
          },
          "metadata": {},
          "execution_count": 177
        }
      ]
    },
    {
      "cell_type": "code",
      "source": [
        "business_df=business_df[business_df[\"is_open\"]==1]"
      ],
      "metadata": {
        "id": "LLU9lnFMAQ_E"
      },
      "execution_count": 178,
      "outputs": []
    },
    {
      "cell_type": "code",
      "source": [
        "business_df.shape"
      ],
      "metadata": {
        "colab": {
          "base_uri": "https://localhost:8080/"
        },
        "id": "2OmFgy63AgEk",
        "outputId": "f2d1053e-f595-480b-b1d4-fb3b2422ff6e"
      },
      "execution_count": 179,
      "outputs": [
        {
          "output_type": "execute_result",
          "data": {
            "text/plain": [
              "(119698, 14)"
            ]
          },
          "metadata": {},
          "execution_count": 179
        }
      ]
    },
    {
      "cell_type": "markdown",
      "source": [
        "## LOADING REVIEWS.JSON INTO DATASET"
      ],
      "metadata": {
        "id": "F4cDUQ7O7oxV"
      }
    },
    {
      "cell_type": "code",
      "source": [
        "reviews_df=pd.read_json(open(\"drive/MyDrive/YELP/yelp_academic_dataset_review.json\",\"r\"),lines=True,chunksize=100000)"
      ],
      "metadata": {
        "id": "0TjHxjHI1-0d"
      },
      "execution_count": 180,
      "outputs": []
    },
    {
      "cell_type": "markdown",
      "source": [
        "# FILTERING THE LARGE REVIEW.JSON DATAFRAME"
      ],
      "metadata": {
        "id": "xf0p4tN_70Jd"
      }
    },
    {
      "cell_type": "code",
      "source": [
        "count=0\n",
        "dataframe=pd.DataFrame()\n",
        "for review in reviews_df:\n",
        "  indices=np.where((review[\"useful\"]>0) & (review[\"cool\"]>0) & (review[\"funny\"]==0))\n",
        "  dataframe=pd.concat([dataframe,review.iloc[indices]])\n",
        "\n"
      ],
      "metadata": {
        "id": "tn1MHUWc2Inw"
      },
      "execution_count": 181,
      "outputs": []
    },
    {
      "cell_type": "code",
      "source": [
        "\n",
        "(dataframe[\"useful\"]).sort_values(ascending=False).value_counts(normalize=True)"
      ],
      "metadata": {
        "colab": {
          "base_uri": "https://localhost:8080/"
        },
        "id": "Eh4qWpqH_rsX",
        "outputId": "50985982-fafa-44df-b68b-1dd70714f927"
      },
      "execution_count": 182,
      "outputs": [
        {
          "output_type": "execute_result",
          "data": {
            "text/plain": [
              "1      0.461334\n",
              "2      0.255658\n",
              "3      0.129969\n",
              "4      0.065334\n",
              "5      0.034531\n",
              "         ...   \n",
              "128    0.000001\n",
              "129    0.000001\n",
              "131    0.000001\n",
              "134    0.000001\n",
              "404    0.000001\n",
              "Name: useful, Length: 138, dtype: float64"
            ]
          },
          "metadata": {},
          "execution_count": 182
        }
      ]
    },
    {
      "cell_type": "code",
      "source": [
        "(dataframe[\"cool\"]).sort_values(ascending=False).value_counts(normalize=True)"
      ],
      "metadata": {
        "colab": {
          "base_uri": "https://localhost:8080/"
        },
        "id": "aveDLv-BLAxY",
        "outputId": "7475c5f4-e09f-4e52-bd0e-5f328b580f3a"
      },
      "execution_count": 183,
      "outputs": [
        {
          "output_type": "execute_result",
          "data": {
            "text/plain": [
              "1      0.713521\n",
              "2      0.192509\n",
              "3      0.057132\n",
              "4      0.019801\n",
              "5      0.007668\n",
              "         ...   \n",
              "98     0.000001\n",
              "99     0.000001\n",
              "108    0.000001\n",
              "109    0.000001\n",
              "404    0.000001\n",
              "Name: cool, Length: 106, dtype: float64"
            ]
          },
          "metadata": {},
          "execution_count": 183
        }
      ]
    },
    {
      "cell_type": "code",
      "source": [
        "indices_helpful=np.where((dataframe[\"useful\"]>=5) & (dataframe[\"cool\"]>1))\n",
        "dataframe_helpful=dataframe.iloc[indices_helpful]\n",
        "dataframe_helpful.reset_index(inplace=True,drop=True)"
      ],
      "metadata": {
        "id": "TWNhC9IDDeDZ"
      },
      "execution_count": 184,
      "outputs": []
    },
    {
      "cell_type": "code",
      "source": [
        "dataframe_helpful.shape"
      ],
      "metadata": {
        "colab": {
          "base_uri": "https://localhost:8080/"
        },
        "id": "wCDupMDlG8l1",
        "outputId": "783bbed4-93e9-4fdd-ad80-acad61a14078"
      },
      "execution_count": 185,
      "outputs": [
        {
          "output_type": "execute_result",
          "data": {
            "text/plain": [
              "(39351, 9)"
            ]
          },
          "metadata": {},
          "execution_count": 185
        }
      ]
    },
    {
      "cell_type": "code",
      "source": [
        "dataframe_reduced=dataframe_helpful[[\"user_id\",\"business_id\",\"stars\"]]\n"
      ],
      "metadata": {
        "id": "DQv4rW7u87-h"
      },
      "execution_count": 186,
      "outputs": []
    },
    {
      "cell_type": "code",
      "source": [
        "dataframe_reduced.head()"
      ],
      "metadata": {
        "colab": {
          "base_uri": "https://localhost:8080/",
          "height": 206
        },
        "id": "wcbMUdZz877G",
        "outputId": "0c6b00cd-4443-4278-c106-7102c4630d80"
      },
      "execution_count": 187,
      "outputs": [
        {
          "output_type": "execute_result",
          "data": {
            "text/plain": [
              "                  user_id             business_id  stars\n",
              "0  uAu772KpSkb-tPFgZmU-lA  2GYg3liJ9-m6Z67L_4_BRQ      5\n",
              "1  uzy_KYIZx65cp7Yh8_seeQ  ZuM1vcZ_ObCjCCGweYzItg      5\n",
              "2  qPORuflcC27780nm7s2UUg  V9XlikTxq0My4gE8LULsjw      1\n",
              "3  3V_eOrneBc8Y0HmxKys6Yg  VcTddMHnMZeKibhRFWuqVw      5\n",
              "4  -DMJL_fcLZCvlqzMm97giA  ZVyDNLVFF8K4zcnhoKNSbA      5"
            ],
            "text/html": [
              "\n",
              "\n",
              "  <div id=\"df-aca7407a-a4d6-4688-93c5-5d849f1a6c98\">\n",
              "    <div class=\"colab-df-container\">\n",
              "      <div>\n",
              "<style scoped>\n",
              "    .dataframe tbody tr th:only-of-type {\n",
              "        vertical-align: middle;\n",
              "    }\n",
              "\n",
              "    .dataframe tbody tr th {\n",
              "        vertical-align: top;\n",
              "    }\n",
              "\n",
              "    .dataframe thead th {\n",
              "        text-align: right;\n",
              "    }\n",
              "</style>\n",
              "<table border=\"1\" class=\"dataframe\">\n",
              "  <thead>\n",
              "    <tr style=\"text-align: right;\">\n",
              "      <th></th>\n",
              "      <th>user_id</th>\n",
              "      <th>business_id</th>\n",
              "      <th>stars</th>\n",
              "    </tr>\n",
              "  </thead>\n",
              "  <tbody>\n",
              "    <tr>\n",
              "      <th>0</th>\n",
              "      <td>uAu772KpSkb-tPFgZmU-lA</td>\n",
              "      <td>2GYg3liJ9-m6Z67L_4_BRQ</td>\n",
              "      <td>5</td>\n",
              "    </tr>\n",
              "    <tr>\n",
              "      <th>1</th>\n",
              "      <td>uzy_KYIZx65cp7Yh8_seeQ</td>\n",
              "      <td>ZuM1vcZ_ObCjCCGweYzItg</td>\n",
              "      <td>5</td>\n",
              "    </tr>\n",
              "    <tr>\n",
              "      <th>2</th>\n",
              "      <td>qPORuflcC27780nm7s2UUg</td>\n",
              "      <td>V9XlikTxq0My4gE8LULsjw</td>\n",
              "      <td>1</td>\n",
              "    </tr>\n",
              "    <tr>\n",
              "      <th>3</th>\n",
              "      <td>3V_eOrneBc8Y0HmxKys6Yg</td>\n",
              "      <td>VcTddMHnMZeKibhRFWuqVw</td>\n",
              "      <td>5</td>\n",
              "    </tr>\n",
              "    <tr>\n",
              "      <th>4</th>\n",
              "      <td>-DMJL_fcLZCvlqzMm97giA</td>\n",
              "      <td>ZVyDNLVFF8K4zcnhoKNSbA</td>\n",
              "      <td>5</td>\n",
              "    </tr>\n",
              "  </tbody>\n",
              "</table>\n",
              "</div>\n",
              "      <button class=\"colab-df-convert\" onclick=\"convertToInteractive('df-aca7407a-a4d6-4688-93c5-5d849f1a6c98')\"\n",
              "              title=\"Convert this dataframe to an interactive table.\"\n",
              "              style=\"display:none;\">\n",
              "\n",
              "  <svg xmlns=\"http://www.w3.org/2000/svg\" height=\"24px\"viewBox=\"0 0 24 24\"\n",
              "       width=\"24px\">\n",
              "    <path d=\"M0 0h24v24H0V0z\" fill=\"none\"/>\n",
              "    <path d=\"M18.56 5.44l.94 2.06.94-2.06 2.06-.94-2.06-.94-.94-2.06-.94 2.06-2.06.94zm-11 1L8.5 8.5l.94-2.06 2.06-.94-2.06-.94L8.5 2.5l-.94 2.06-2.06.94zm10 10l.94 2.06.94-2.06 2.06-.94-2.06-.94-.94-2.06-.94 2.06-2.06.94z\"/><path d=\"M17.41 7.96l-1.37-1.37c-.4-.4-.92-.59-1.43-.59-.52 0-1.04.2-1.43.59L10.3 9.45l-7.72 7.72c-.78.78-.78 2.05 0 2.83L4 21.41c.39.39.9.59 1.41.59.51 0 1.02-.2 1.41-.59l7.78-7.78 2.81-2.81c.8-.78.8-2.07 0-2.86zM5.41 20L4 18.59l7.72-7.72 1.47 1.35L5.41 20z\"/>\n",
              "  </svg>\n",
              "      </button>\n",
              "\n",
              "\n",
              "\n",
              "    <div id=\"df-e0e5e8d5-feeb-41a0-b214-5fdf737d4f3e\">\n",
              "      <button class=\"colab-df-quickchart\" onclick=\"quickchart('df-e0e5e8d5-feeb-41a0-b214-5fdf737d4f3e')\"\n",
              "              title=\"Suggest charts.\"\n",
              "              style=\"display:none;\">\n",
              "\n",
              "<svg xmlns=\"http://www.w3.org/2000/svg\" height=\"24px\"viewBox=\"0 0 24 24\"\n",
              "     width=\"24px\">\n",
              "    <g>\n",
              "        <path d=\"M19 3H5c-1.1 0-2 .9-2 2v14c0 1.1.9 2 2 2h14c1.1 0 2-.9 2-2V5c0-1.1-.9-2-2-2zM9 17H7v-7h2v7zm4 0h-2V7h2v10zm4 0h-2v-4h2v4z\"/>\n",
              "    </g>\n",
              "</svg>\n",
              "      </button>\n",
              "    </div>\n",
              "\n",
              "<style>\n",
              "  .colab-df-quickchart {\n",
              "    background-color: #E8F0FE;\n",
              "    border: none;\n",
              "    border-radius: 50%;\n",
              "    cursor: pointer;\n",
              "    display: none;\n",
              "    fill: #1967D2;\n",
              "    height: 32px;\n",
              "    padding: 0 0 0 0;\n",
              "    width: 32px;\n",
              "  }\n",
              "\n",
              "  .colab-df-quickchart:hover {\n",
              "    background-color: #E2EBFA;\n",
              "    box-shadow: 0px 1px 2px rgba(60, 64, 67, 0.3), 0px 1px 3px 1px rgba(60, 64, 67, 0.15);\n",
              "    fill: #174EA6;\n",
              "  }\n",
              "\n",
              "  [theme=dark] .colab-df-quickchart {\n",
              "    background-color: #3B4455;\n",
              "    fill: #D2E3FC;\n",
              "  }\n",
              "\n",
              "  [theme=dark] .colab-df-quickchart:hover {\n",
              "    background-color: #434B5C;\n",
              "    box-shadow: 0px 1px 3px 1px rgba(0, 0, 0, 0.15);\n",
              "    filter: drop-shadow(0px 1px 2px rgba(0, 0, 0, 0.3));\n",
              "    fill: #FFFFFF;\n",
              "  }\n",
              "</style>\n",
              "\n",
              "    <script>\n",
              "      async function quickchart(key) {\n",
              "        const containerElement = document.querySelector('#' + key);\n",
              "        const charts = await google.colab.kernel.invokeFunction(\n",
              "            'suggestCharts', [key], {});\n",
              "      }\n",
              "    </script>\n",
              "\n",
              "      <script>\n",
              "\n",
              "function displayQuickchartButton(domScope) {\n",
              "  let quickchartButtonEl =\n",
              "    domScope.querySelector('#df-e0e5e8d5-feeb-41a0-b214-5fdf737d4f3e button.colab-df-quickchart');\n",
              "  quickchartButtonEl.style.display =\n",
              "    google.colab.kernel.accessAllowed ? 'block' : 'none';\n",
              "}\n",
              "\n",
              "        displayQuickchartButton(document);\n",
              "      </script>\n",
              "      <style>\n",
              "    .colab-df-container {\n",
              "      display:flex;\n",
              "      flex-wrap:wrap;\n",
              "      gap: 12px;\n",
              "    }\n",
              "\n",
              "    .colab-df-convert {\n",
              "      background-color: #E8F0FE;\n",
              "      border: none;\n",
              "      border-radius: 50%;\n",
              "      cursor: pointer;\n",
              "      display: none;\n",
              "      fill: #1967D2;\n",
              "      height: 32px;\n",
              "      padding: 0 0 0 0;\n",
              "      width: 32px;\n",
              "    }\n",
              "\n",
              "    .colab-df-convert:hover {\n",
              "      background-color: #E2EBFA;\n",
              "      box-shadow: 0px 1px 2px rgba(60, 64, 67, 0.3), 0px 1px 3px 1px rgba(60, 64, 67, 0.15);\n",
              "      fill: #174EA6;\n",
              "    }\n",
              "\n",
              "    [theme=dark] .colab-df-convert {\n",
              "      background-color: #3B4455;\n",
              "      fill: #D2E3FC;\n",
              "    }\n",
              "\n",
              "    [theme=dark] .colab-df-convert:hover {\n",
              "      background-color: #434B5C;\n",
              "      box-shadow: 0px 1px 3px 1px rgba(0, 0, 0, 0.15);\n",
              "      filter: drop-shadow(0px 1px 2px rgba(0, 0, 0, 0.3));\n",
              "      fill: #FFFFFF;\n",
              "    }\n",
              "  </style>\n",
              "\n",
              "      <script>\n",
              "        const buttonEl =\n",
              "          document.querySelector('#df-aca7407a-a4d6-4688-93c5-5d849f1a6c98 button.colab-df-convert');\n",
              "        buttonEl.style.display =\n",
              "          google.colab.kernel.accessAllowed ? 'block' : 'none';\n",
              "\n",
              "        async function convertToInteractive(key) {\n",
              "          const element = document.querySelector('#df-aca7407a-a4d6-4688-93c5-5d849f1a6c98');\n",
              "          const dataTable =\n",
              "            await google.colab.kernel.invokeFunction('convertToInteractive',\n",
              "                                                     [key], {});\n",
              "          if (!dataTable) return;\n",
              "\n",
              "          const docLinkHtml = 'Like what you see? Visit the ' +\n",
              "            '<a target=\"_blank\" href=https://colab.research.google.com/notebooks/data_table.ipynb>data table notebook</a>'\n",
              "            + ' to learn more about interactive tables.';\n",
              "          element.innerHTML = '';\n",
              "          dataTable['output_type'] = 'display_data';\n",
              "          await google.colab.output.renderOutput(dataTable, element);\n",
              "          const docLink = document.createElement('div');\n",
              "          docLink.innerHTML = docLinkHtml;\n",
              "          element.appendChild(docLink);\n",
              "        }\n",
              "      </script>\n",
              "    </div>\n",
              "  </div>\n"
            ]
          },
          "metadata": {},
          "execution_count": 187
        }
      ]
    },
    {
      "cell_type": "code",
      "source": [
        "dataframe_reduced.shape"
      ],
      "metadata": {
        "colab": {
          "base_uri": "https://localhost:8080/"
        },
        "id": "0WhKdw-53m8a",
        "outputId": "4c3d62b2-aa73-4035-c1e4-bd139dfd6abd"
      },
      "execution_count": 188,
      "outputs": [
        {
          "output_type": "execute_result",
          "data": {
            "text/plain": [
              "(39351, 3)"
            ]
          },
          "metadata": {},
          "execution_count": 188
        }
      ]
    },
    {
      "cell_type": "code",
      "source": [
        "dfexp=dataframe_reduced.groupby([\"user_id\",\"business_id\"],as_index=False)[\"stars\"].mean()\n"
      ],
      "metadata": {
        "id": "B36EVu1QXKyt"
      },
      "execution_count": 189,
      "outputs": []
    },
    {
      "cell_type": "code",
      "source": [
        "dfexp[\"count\"] = dfexp[\"business_id\"].map(dfexp[\"business_id\"].value_counts())"
      ],
      "metadata": {
        "id": "TuLf0OP5pZEw"
      },
      "execution_count": 190,
      "outputs": []
    },
    {
      "cell_type": "code",
      "source": [
        "df_final=dfexp.loc[dfexp[\"count\"]>2]"
      ],
      "metadata": {
        "id": "nLNn0DuxqxMd"
      },
      "execution_count": 191,
      "outputs": []
    },
    {
      "cell_type": "code",
      "source": [
        "df_final.shape"
      ],
      "metadata": {
        "colab": {
          "base_uri": "https://localhost:8080/"
        },
        "id": "wwyydKYxptnv",
        "outputId": "201ed603-ff90-4681-eff4-9a1873a209d7"
      },
      "execution_count": 192,
      "outputs": [
        {
          "output_type": "execute_result",
          "data": {
            "text/plain": [
              "(16992, 4)"
            ]
          },
          "metadata": {},
          "execution_count": 192
        }
      ]
    },
    {
      "cell_type": "code",
      "source": [
        "df_final.head()"
      ],
      "metadata": {
        "colab": {
          "base_uri": "https://localhost:8080/",
          "height": 206
        },
        "id": "i-m7R1zaiGGm",
        "outputId": "98f71615-2ea1-4733-ddba-57392f1c4225"
      },
      "execution_count": 193,
      "outputs": [
        {
          "output_type": "execute_result",
          "data": {
            "text/plain": [
              "                   user_id             business_id  stars  count\n",
              "4   --u09WAjW741FdfkJXxNmg  tkY5BJVXxUmP4jsKavkf2g    5.0      5\n",
              "8   -0W641mhJoejArA1X19T2w  IRh7j-5UmzQsq0pOHzpGkA    4.5      7\n",
              "11  -1K2a9BI9qjlma21HmY0HA  8n_BlTxfALO08FWdb6Tnbg    5.0      3\n",
              "14  -1MF2tosrw2WcCxeVNk81Q  h8qIDmSY6CgqvKMCjzzWeA    5.0     12\n",
              "17  -1WbN1Qd-opw8u3uEqs2Kg  NyqYpVVIbEQvz6zKE-Fyew    5.0     13"
            ],
            "text/html": [
              "\n",
              "\n",
              "  <div id=\"df-de940622-4b45-4975-acb8-46052b6568f4\">\n",
              "    <div class=\"colab-df-container\">\n",
              "      <div>\n",
              "<style scoped>\n",
              "    .dataframe tbody tr th:only-of-type {\n",
              "        vertical-align: middle;\n",
              "    }\n",
              "\n",
              "    .dataframe tbody tr th {\n",
              "        vertical-align: top;\n",
              "    }\n",
              "\n",
              "    .dataframe thead th {\n",
              "        text-align: right;\n",
              "    }\n",
              "</style>\n",
              "<table border=\"1\" class=\"dataframe\">\n",
              "  <thead>\n",
              "    <tr style=\"text-align: right;\">\n",
              "      <th></th>\n",
              "      <th>user_id</th>\n",
              "      <th>business_id</th>\n",
              "      <th>stars</th>\n",
              "      <th>count</th>\n",
              "    </tr>\n",
              "  </thead>\n",
              "  <tbody>\n",
              "    <tr>\n",
              "      <th>4</th>\n",
              "      <td>--u09WAjW741FdfkJXxNmg</td>\n",
              "      <td>tkY5BJVXxUmP4jsKavkf2g</td>\n",
              "      <td>5.0</td>\n",
              "      <td>5</td>\n",
              "    </tr>\n",
              "    <tr>\n",
              "      <th>8</th>\n",
              "      <td>-0W641mhJoejArA1X19T2w</td>\n",
              "      <td>IRh7j-5UmzQsq0pOHzpGkA</td>\n",
              "      <td>4.5</td>\n",
              "      <td>7</td>\n",
              "    </tr>\n",
              "    <tr>\n",
              "      <th>11</th>\n",
              "      <td>-1K2a9BI9qjlma21HmY0HA</td>\n",
              "      <td>8n_BlTxfALO08FWdb6Tnbg</td>\n",
              "      <td>5.0</td>\n",
              "      <td>3</td>\n",
              "    </tr>\n",
              "    <tr>\n",
              "      <th>14</th>\n",
              "      <td>-1MF2tosrw2WcCxeVNk81Q</td>\n",
              "      <td>h8qIDmSY6CgqvKMCjzzWeA</td>\n",
              "      <td>5.0</td>\n",
              "      <td>12</td>\n",
              "    </tr>\n",
              "    <tr>\n",
              "      <th>17</th>\n",
              "      <td>-1WbN1Qd-opw8u3uEqs2Kg</td>\n",
              "      <td>NyqYpVVIbEQvz6zKE-Fyew</td>\n",
              "      <td>5.0</td>\n",
              "      <td>13</td>\n",
              "    </tr>\n",
              "  </tbody>\n",
              "</table>\n",
              "</div>\n",
              "      <button class=\"colab-df-convert\" onclick=\"convertToInteractive('df-de940622-4b45-4975-acb8-46052b6568f4')\"\n",
              "              title=\"Convert this dataframe to an interactive table.\"\n",
              "              style=\"display:none;\">\n",
              "\n",
              "  <svg xmlns=\"http://www.w3.org/2000/svg\" height=\"24px\"viewBox=\"0 0 24 24\"\n",
              "       width=\"24px\">\n",
              "    <path d=\"M0 0h24v24H0V0z\" fill=\"none\"/>\n",
              "    <path d=\"M18.56 5.44l.94 2.06.94-2.06 2.06-.94-2.06-.94-.94-2.06-.94 2.06-2.06.94zm-11 1L8.5 8.5l.94-2.06 2.06-.94-2.06-.94L8.5 2.5l-.94 2.06-2.06.94zm10 10l.94 2.06.94-2.06 2.06-.94-2.06-.94-.94-2.06-.94 2.06-2.06.94z\"/><path d=\"M17.41 7.96l-1.37-1.37c-.4-.4-.92-.59-1.43-.59-.52 0-1.04.2-1.43.59L10.3 9.45l-7.72 7.72c-.78.78-.78 2.05 0 2.83L4 21.41c.39.39.9.59 1.41.59.51 0 1.02-.2 1.41-.59l7.78-7.78 2.81-2.81c.8-.78.8-2.07 0-2.86zM5.41 20L4 18.59l7.72-7.72 1.47 1.35L5.41 20z\"/>\n",
              "  </svg>\n",
              "      </button>\n",
              "\n",
              "\n",
              "\n",
              "    <div id=\"df-f9b8170f-abe7-4e39-8469-b11e4407ba91\">\n",
              "      <button class=\"colab-df-quickchart\" onclick=\"quickchart('df-f9b8170f-abe7-4e39-8469-b11e4407ba91')\"\n",
              "              title=\"Suggest charts.\"\n",
              "              style=\"display:none;\">\n",
              "\n",
              "<svg xmlns=\"http://www.w3.org/2000/svg\" height=\"24px\"viewBox=\"0 0 24 24\"\n",
              "     width=\"24px\">\n",
              "    <g>\n",
              "        <path d=\"M19 3H5c-1.1 0-2 .9-2 2v14c0 1.1.9 2 2 2h14c1.1 0 2-.9 2-2V5c0-1.1-.9-2-2-2zM9 17H7v-7h2v7zm4 0h-2V7h2v10zm4 0h-2v-4h2v4z\"/>\n",
              "    </g>\n",
              "</svg>\n",
              "      </button>\n",
              "    </div>\n",
              "\n",
              "<style>\n",
              "  .colab-df-quickchart {\n",
              "    background-color: #E8F0FE;\n",
              "    border: none;\n",
              "    border-radius: 50%;\n",
              "    cursor: pointer;\n",
              "    display: none;\n",
              "    fill: #1967D2;\n",
              "    height: 32px;\n",
              "    padding: 0 0 0 0;\n",
              "    width: 32px;\n",
              "  }\n",
              "\n",
              "  .colab-df-quickchart:hover {\n",
              "    background-color: #E2EBFA;\n",
              "    box-shadow: 0px 1px 2px rgba(60, 64, 67, 0.3), 0px 1px 3px 1px rgba(60, 64, 67, 0.15);\n",
              "    fill: #174EA6;\n",
              "  }\n",
              "\n",
              "  [theme=dark] .colab-df-quickchart {\n",
              "    background-color: #3B4455;\n",
              "    fill: #D2E3FC;\n",
              "  }\n",
              "\n",
              "  [theme=dark] .colab-df-quickchart:hover {\n",
              "    background-color: #434B5C;\n",
              "    box-shadow: 0px 1px 3px 1px rgba(0, 0, 0, 0.15);\n",
              "    filter: drop-shadow(0px 1px 2px rgba(0, 0, 0, 0.3));\n",
              "    fill: #FFFFFF;\n",
              "  }\n",
              "</style>\n",
              "\n",
              "    <script>\n",
              "      async function quickchart(key) {\n",
              "        const containerElement = document.querySelector('#' + key);\n",
              "        const charts = await google.colab.kernel.invokeFunction(\n",
              "            'suggestCharts', [key], {});\n",
              "      }\n",
              "    </script>\n",
              "\n",
              "      <script>\n",
              "\n",
              "function displayQuickchartButton(domScope) {\n",
              "  let quickchartButtonEl =\n",
              "    domScope.querySelector('#df-f9b8170f-abe7-4e39-8469-b11e4407ba91 button.colab-df-quickchart');\n",
              "  quickchartButtonEl.style.display =\n",
              "    google.colab.kernel.accessAllowed ? 'block' : 'none';\n",
              "}\n",
              "\n",
              "        displayQuickchartButton(document);\n",
              "      </script>\n",
              "      <style>\n",
              "    .colab-df-container {\n",
              "      display:flex;\n",
              "      flex-wrap:wrap;\n",
              "      gap: 12px;\n",
              "    }\n",
              "\n",
              "    .colab-df-convert {\n",
              "      background-color: #E8F0FE;\n",
              "      border: none;\n",
              "      border-radius: 50%;\n",
              "      cursor: pointer;\n",
              "      display: none;\n",
              "      fill: #1967D2;\n",
              "      height: 32px;\n",
              "      padding: 0 0 0 0;\n",
              "      width: 32px;\n",
              "    }\n",
              "\n",
              "    .colab-df-convert:hover {\n",
              "      background-color: #E2EBFA;\n",
              "      box-shadow: 0px 1px 2px rgba(60, 64, 67, 0.3), 0px 1px 3px 1px rgba(60, 64, 67, 0.15);\n",
              "      fill: #174EA6;\n",
              "    }\n",
              "\n",
              "    [theme=dark] .colab-df-convert {\n",
              "      background-color: #3B4455;\n",
              "      fill: #D2E3FC;\n",
              "    }\n",
              "\n",
              "    [theme=dark] .colab-df-convert:hover {\n",
              "      background-color: #434B5C;\n",
              "      box-shadow: 0px 1px 3px 1px rgba(0, 0, 0, 0.15);\n",
              "      filter: drop-shadow(0px 1px 2px rgba(0, 0, 0, 0.3));\n",
              "      fill: #FFFFFF;\n",
              "    }\n",
              "  </style>\n",
              "\n",
              "      <script>\n",
              "        const buttonEl =\n",
              "          document.querySelector('#df-de940622-4b45-4975-acb8-46052b6568f4 button.colab-df-convert');\n",
              "        buttonEl.style.display =\n",
              "          google.colab.kernel.accessAllowed ? 'block' : 'none';\n",
              "\n",
              "        async function convertToInteractive(key) {\n",
              "          const element = document.querySelector('#df-de940622-4b45-4975-acb8-46052b6568f4');\n",
              "          const dataTable =\n",
              "            await google.colab.kernel.invokeFunction('convertToInteractive',\n",
              "                                                     [key], {});\n",
              "          if (!dataTable) return;\n",
              "\n",
              "          const docLinkHtml = 'Like what you see? Visit the ' +\n",
              "            '<a target=\"_blank\" href=https://colab.research.google.com/notebooks/data_table.ipynb>data table notebook</a>'\n",
              "            + ' to learn more about interactive tables.';\n",
              "          element.innerHTML = '';\n",
              "          dataTable['output_type'] = 'display_data';\n",
              "          await google.colab.output.renderOutput(dataTable, element);\n",
              "          const docLink = document.createElement('div');\n",
              "          docLink.innerHTML = docLinkHtml;\n",
              "          element.appendChild(docLink);\n",
              "        }\n",
              "      </script>\n",
              "    </div>\n",
              "  </div>\n"
            ]
          },
          "metadata": {},
          "execution_count": 193
        }
      ]
    },
    {
      "cell_type": "code",
      "source": [
        "table=df_final.pivot(index=\"business_id\",columns=\"user_id\",values=\"stars\").fillna(0)"
      ],
      "metadata": {
        "id": "DmKaxvFjB5bG"
      },
      "execution_count": 194,
      "outputs": []
    },
    {
      "cell_type": "code",
      "source": [
        "table.shape"
      ],
      "metadata": {
        "colab": {
          "base_uri": "https://localhost:8080/"
        },
        "id": "S1Cy3K6utSBT",
        "outputId": "656d3306-1c95-4ec3-eeda-072954998a18"
      },
      "execution_count": 195,
      "outputs": [
        {
          "output_type": "execute_result",
          "data": {
            "text/plain": [
              "(3341, 11103)"
            ]
          },
          "metadata": {},
          "execution_count": 195
        }
      ]
    },
    {
      "cell_type": "code",
      "source": [
        "from scipy.sparse import csr_matrix\n",
        "from sklearn.neighbors import NearestNeighbors"
      ],
      "metadata": {
        "id": "AEFXVde_uzy3"
      },
      "execution_count": 196,
      "outputs": []
    },
    {
      "cell_type": "code",
      "source": [
        "id_to_name=dict.fromkeys(business_df[\"business_id\"])\n",
        "for i in range(len(business_df)):\n",
        "  id_to_name[business_df.iloc[i][\"business_id\"]]=business_df.iloc[i][\"name\"]\n",
        ""
      ],
      "metadata": {
        "id": "yPRpajPN9FC6"
      },
      "execution_count": 197,
      "outputs": []
    },
    {
      "cell_type": "code",
      "source": [
        "common=list(set(table.index).difference(set(business_df[\"business_id\"])))\n",
        "table.drop(common,inplace=True)"
      ],
      "metadata": {
        "id": "evF2FWklF8wE"
      },
      "execution_count": 198,
      "outputs": []
    },
    {
      "cell_type": "code",
      "source": [
        "table.shape"
      ],
      "metadata": {
        "colab": {
          "base_uri": "https://localhost:8080/"
        },
        "id": "_QvWpo4BNWNr",
        "outputId": "f0849aef-f23b-4c79-dfa8-6207989d63e0"
      },
      "execution_count": 199,
      "outputs": [
        {
          "output_type": "execute_result",
          "data": {
            "text/plain": [
              "(2772, 11103)"
            ]
          },
          "metadata": {},
          "execution_count": 199
        }
      ]
    },
    {
      "cell_type": "code",
      "source": [
        "\n",
        "\n",
        "model=NearestNeighbors(algorithm=\"brute\",metric=\"cosine\",n_neighbors=6)\n",
        "scores=csr_matrix(table.values)\n",
        "model.fit(scores)\n",
        "\n",
        "d_business={}\n",
        "for business in table.index:\n",
        "  recommendations=model.kneighbors([table.loc[business,:].values],return_distance=False)\n",
        "  recommendations_names=[id_to_name[table.index[recommendation]] for recommendation in recommendations[0][1:]]\n",
        "  d_business[id_to_name[business]]=recommendations_names\n",
        "\n",
        "item_to_item=pd.DataFrame(d_business)\n",
        "\n",
        "item_to_item.head()"
      ],
      "metadata": {
        "colab": {
          "base_uri": "https://localhost:8080/",
          "height": 802
        },
        "id": "WGb46FuHHy7l",
        "outputId": "f26508e1-b8ae-4ea2-ffe7-71fb9254b41a"
      },
      "execution_count": 200,
      "outputs": [
        {
          "output_type": "execute_result",
          "data": {
            "text/plain": [
              "   IndeBlue Modern Indian Food & Spirits                  Spice 28  \\\n",
              "0             Isot Mediterranean Cuisine          La Teresita Cafe   \n",
              "1                       1 Tippling Place  Tuk Tuk Thai Street Food   \n",
              "2                              Varga Bar           Craft Ale House   \n",
              "3          Queen Village Animal Hospital  CMX CinéBistro Hyde Park   \n",
              "4  Alamodak Restaurant and Hookah Lounge               KD Electric   \n",
              "\n",
              "                 Dose's Pet Vets                     Art's Skillet  \\\n",
              "0                        Pizzava      Lincoln Square Pancake House   \n",
              "1             Black Rabbit Meads  Calvin Fletcher's Coffee Company   \n",
              "2  Fly High Trampoline Park Reno                       Liter House   \n",
              "3            Andelin Family Farm              Cleo’s Bodega & Cafe   \n",
              "4                       The Eddy        Woody's Library Restaurant   \n",
              "\n",
              "  Balance Chiropractic Health Center & Spa          Rick's Reef  \\\n",
              "0                                     Zama      American Social   \n",
              "1        Christmas Village In Philadelphia         Crown & Bull   \n",
              "2                                   NECTAR  Cask Social Kitchen   \n",
              "3                    None Such Farm Market    Sea Critters Cafe   \n",
              "4                              Shiroi Hana     Fred Howard Park   \n",
              "\n",
              "                                             Festiva  \\\n",
              "0                                     3 Sisters Café   \n",
              "1                      Three Carrots Fountain Square   \n",
              "2                                       Strange Bird   \n",
              "3  Eiteljorg Museum of American Indians & Western...   \n",
              "4                                Doughnuts & Dragons   \n",
              "\n",
              "                                     Grand Ole Opry  \\\n",
              "0                                       KD Electric   \n",
              "1                                   Craft Ale House   \n",
              "2  Taste Restaurant At Lucky Lou Seafood and Dimsum   \n",
              "3                                     Sher-e-Punjab   \n",
              "4                            Manatee Viewing Center   \n",
              "\n",
              "                                     Rollin Fatties       RIZE - Indianapolis  \\\n",
              "0                                       KD Electric                Seasons 52   \n",
              "1                                   Craft Ale House  Indianapolis City Market   \n",
              "2  Taste Restaurant At Lucky Lou Seafood and Dimsum            Daredevil Hall   \n",
              "3                                     Sher-e-Punjab       Old National Centre   \n",
              "4                            Manatee Viewing Center                     Nesso   \n",
              "\n",
              "   ...                         Hot Green Tea Nails & Spa  \\\n",
              "0  ...                            Manatee Viewing Center   \n",
              "1  ...                          CMX CinéBistro Hyde Park   \n",
              "2  ...  Taste Restaurant At Lucky Lou Seafood and Dimsum   \n",
              "3  ...                                       KD Electric   \n",
              "4  ...                                     Sher-e-Punjab   \n",
              "\n",
              "             Lithia Reno Subaru  \\\n",
              "0  Hunter Creek Waterfall Trail   \n",
              "1              Too Soul Tea Co.   \n",
              "2                   Jack's Cafe   \n",
              "3                   Kaffe Crepe   \n",
              "4                    Ijji Sushi   \n",
              "\n",
              "                                        Arch Of Reno  \\\n",
              "0  Bertha Miranda's Mexican Food Restaurant and C...   \n",
              "1                             Crawfish Asian Cuisine   \n",
              "2               Galaxy Theatres Legends IMAX, Sparks   \n",
              "3                                            999 Pho   \n",
              "4                               BJ's Nevada Barbecue   \n",
              "\n",
              "                                        Amelia’s  \\\n",
              "0                                    Love Handle   \n",
              "1                                     Sushi Boss   \n",
              "2  Garfield Park Conservatory and Sunken Gardens   \n",
              "3                                     Seasons 52   \n",
              "4                       Root & Bone Indianapolis   \n",
              "\n",
              "               The Bakeshop on 20th                       PokeDoke  \\\n",
              "0                  Race Street Cafe                    Golden Gems   \n",
              "1       Trek Bicycle - Philadelphia  Mayo Ketchup By Plantain Girl   \n",
              "2                 Hollyhedge Estate                 The Gramophone   \n",
              "3  City Fitness - Graduate Hospital                     Ted Drewes   \n",
              "4             Fantagio Spa and Body              2nd Shift Brewing   \n",
              "\n",
              "                             Cup Cafe  \\\n",
              "0                Antoine's Restaurant   \n",
              "1               Baja Cafe on Campbell   \n",
              "2                     The Bombay Club   \n",
              "3  Tucson International Airport - TUS   \n",
              "4                       Prep & Pastry   \n",
              "\n",
              "                                 Free Tours By Foot      The Urban Juicer  \\\n",
              "0                                          Buddakan       Pinewood Social   \n",
              "1  Taste Restaurant At Lucky Lou Seafood and Dimsum  Italia Pizza & Pasta   \n",
              "2                            Manatee Viewing Center  Tennessee Brew Works   \n",
              "3                          CMX CinéBistro Hyde Park       Craft Ale House   \n",
              "4                                       KD Electric      Sun King Brewery   \n",
              "\n",
              "            Paul Mitchell The School Reno  \n",
              "0  Reno Smiles Dentistry and Orthodontics  \n",
              "1                         Brickies Tavern  \n",
              "2                               emPIEnada  \n",
              "3              Great Basin Brewing - Reno  \n",
              "4           Village Center Farmers Market  \n",
              "\n",
              "[5 rows x 2718 columns]"
            ],
            "text/html": [
              "\n",
              "\n",
              "  <div id=\"df-3e66eda5-9e7d-4cb7-9d4b-06b7d1da4514\">\n",
              "    <div class=\"colab-df-container\">\n",
              "      <div>\n",
              "<style scoped>\n",
              "    .dataframe tbody tr th:only-of-type {\n",
              "        vertical-align: middle;\n",
              "    }\n",
              "\n",
              "    .dataframe tbody tr th {\n",
              "        vertical-align: top;\n",
              "    }\n",
              "\n",
              "    .dataframe thead th {\n",
              "        text-align: right;\n",
              "    }\n",
              "</style>\n",
              "<table border=\"1\" class=\"dataframe\">\n",
              "  <thead>\n",
              "    <tr style=\"text-align: right;\">\n",
              "      <th></th>\n",
              "      <th>IndeBlue Modern Indian Food &amp; Spirits</th>\n",
              "      <th>Spice 28</th>\n",
              "      <th>Dose's Pet Vets</th>\n",
              "      <th>Art's Skillet</th>\n",
              "      <th>Balance Chiropractic Health Center &amp; Spa</th>\n",
              "      <th>Rick's Reef</th>\n",
              "      <th>Festiva</th>\n",
              "      <th>Grand Ole Opry</th>\n",
              "      <th>Rollin Fatties</th>\n",
              "      <th>RIZE - Indianapolis</th>\n",
              "      <th>...</th>\n",
              "      <th>Hot Green Tea Nails &amp; Spa</th>\n",
              "      <th>Lithia Reno Subaru</th>\n",
              "      <th>Arch Of Reno</th>\n",
              "      <th>Amelia’s</th>\n",
              "      <th>The Bakeshop on 20th</th>\n",
              "      <th>PokeDoke</th>\n",
              "      <th>Cup Cafe</th>\n",
              "      <th>Free Tours By Foot</th>\n",
              "      <th>The Urban Juicer</th>\n",
              "      <th>Paul Mitchell The School Reno</th>\n",
              "    </tr>\n",
              "  </thead>\n",
              "  <tbody>\n",
              "    <tr>\n",
              "      <th>0</th>\n",
              "      <td>Isot Mediterranean Cuisine</td>\n",
              "      <td>La Teresita Cafe</td>\n",
              "      <td>Pizzava</td>\n",
              "      <td>Lincoln Square Pancake House</td>\n",
              "      <td>Zama</td>\n",
              "      <td>American Social</td>\n",
              "      <td>3 Sisters Café</td>\n",
              "      <td>KD Electric</td>\n",
              "      <td>KD Electric</td>\n",
              "      <td>Seasons 52</td>\n",
              "      <td>...</td>\n",
              "      <td>Manatee Viewing Center</td>\n",
              "      <td>Hunter Creek Waterfall Trail</td>\n",
              "      <td>Bertha Miranda's Mexican Food Restaurant and C...</td>\n",
              "      <td>Love Handle</td>\n",
              "      <td>Race Street Cafe</td>\n",
              "      <td>Golden Gems</td>\n",
              "      <td>Antoine's Restaurant</td>\n",
              "      <td>Buddakan</td>\n",
              "      <td>Pinewood Social</td>\n",
              "      <td>Reno Smiles Dentistry and Orthodontics</td>\n",
              "    </tr>\n",
              "    <tr>\n",
              "      <th>1</th>\n",
              "      <td>1 Tippling Place</td>\n",
              "      <td>Tuk Tuk Thai Street Food</td>\n",
              "      <td>Black Rabbit Meads</td>\n",
              "      <td>Calvin Fletcher's Coffee Company</td>\n",
              "      <td>Christmas Village In Philadelphia</td>\n",
              "      <td>Crown &amp; Bull</td>\n",
              "      <td>Three Carrots Fountain Square</td>\n",
              "      <td>Craft Ale House</td>\n",
              "      <td>Craft Ale House</td>\n",
              "      <td>Indianapolis City Market</td>\n",
              "      <td>...</td>\n",
              "      <td>CMX CinéBistro Hyde Park</td>\n",
              "      <td>Too Soul Tea Co.</td>\n",
              "      <td>Crawfish Asian Cuisine</td>\n",
              "      <td>Sushi Boss</td>\n",
              "      <td>Trek Bicycle - Philadelphia</td>\n",
              "      <td>Mayo Ketchup By Plantain Girl</td>\n",
              "      <td>Baja Cafe on Campbell</td>\n",
              "      <td>Taste Restaurant At Lucky Lou Seafood and Dimsum</td>\n",
              "      <td>Italia Pizza &amp; Pasta</td>\n",
              "      <td>Brickies Tavern</td>\n",
              "    </tr>\n",
              "    <tr>\n",
              "      <th>2</th>\n",
              "      <td>Varga Bar</td>\n",
              "      <td>Craft Ale House</td>\n",
              "      <td>Fly High Trampoline Park Reno</td>\n",
              "      <td>Liter House</td>\n",
              "      <td>NECTAR</td>\n",
              "      <td>Cask Social Kitchen</td>\n",
              "      <td>Strange Bird</td>\n",
              "      <td>Taste Restaurant At Lucky Lou Seafood and Dimsum</td>\n",
              "      <td>Taste Restaurant At Lucky Lou Seafood and Dimsum</td>\n",
              "      <td>Daredevil Hall</td>\n",
              "      <td>...</td>\n",
              "      <td>Taste Restaurant At Lucky Lou Seafood and Dimsum</td>\n",
              "      <td>Jack's Cafe</td>\n",
              "      <td>Galaxy Theatres Legends IMAX, Sparks</td>\n",
              "      <td>Garfield Park Conservatory and Sunken Gardens</td>\n",
              "      <td>Hollyhedge Estate</td>\n",
              "      <td>The Gramophone</td>\n",
              "      <td>The Bombay Club</td>\n",
              "      <td>Manatee Viewing Center</td>\n",
              "      <td>Tennessee Brew Works</td>\n",
              "      <td>emPIEnada</td>\n",
              "    </tr>\n",
              "    <tr>\n",
              "      <th>3</th>\n",
              "      <td>Queen Village Animal Hospital</td>\n",
              "      <td>CMX CinéBistro Hyde Park</td>\n",
              "      <td>Andelin Family Farm</td>\n",
              "      <td>Cleo’s Bodega &amp; Cafe</td>\n",
              "      <td>None Such Farm Market</td>\n",
              "      <td>Sea Critters Cafe</td>\n",
              "      <td>Eiteljorg Museum of American Indians &amp; Western...</td>\n",
              "      <td>Sher-e-Punjab</td>\n",
              "      <td>Sher-e-Punjab</td>\n",
              "      <td>Old National Centre</td>\n",
              "      <td>...</td>\n",
              "      <td>KD Electric</td>\n",
              "      <td>Kaffe Crepe</td>\n",
              "      <td>999 Pho</td>\n",
              "      <td>Seasons 52</td>\n",
              "      <td>City Fitness - Graduate Hospital</td>\n",
              "      <td>Ted Drewes</td>\n",
              "      <td>Tucson International Airport - TUS</td>\n",
              "      <td>CMX CinéBistro Hyde Park</td>\n",
              "      <td>Craft Ale House</td>\n",
              "      <td>Great Basin Brewing - Reno</td>\n",
              "    </tr>\n",
              "    <tr>\n",
              "      <th>4</th>\n",
              "      <td>Alamodak Restaurant and Hookah Lounge</td>\n",
              "      <td>KD Electric</td>\n",
              "      <td>The Eddy</td>\n",
              "      <td>Woody's Library Restaurant</td>\n",
              "      <td>Shiroi Hana</td>\n",
              "      <td>Fred Howard Park</td>\n",
              "      <td>Doughnuts &amp; Dragons</td>\n",
              "      <td>Manatee Viewing Center</td>\n",
              "      <td>Manatee Viewing Center</td>\n",
              "      <td>Nesso</td>\n",
              "      <td>...</td>\n",
              "      <td>Sher-e-Punjab</td>\n",
              "      <td>Ijji Sushi</td>\n",
              "      <td>BJ's Nevada Barbecue</td>\n",
              "      <td>Root &amp; Bone Indianapolis</td>\n",
              "      <td>Fantagio Spa and Body</td>\n",
              "      <td>2nd Shift Brewing</td>\n",
              "      <td>Prep &amp; Pastry</td>\n",
              "      <td>KD Electric</td>\n",
              "      <td>Sun King Brewery</td>\n",
              "      <td>Village Center Farmers Market</td>\n",
              "    </tr>\n",
              "  </tbody>\n",
              "</table>\n",
              "<p>5 rows × 2718 columns</p>\n",
              "</div>\n",
              "      <button class=\"colab-df-convert\" onclick=\"convertToInteractive('df-3e66eda5-9e7d-4cb7-9d4b-06b7d1da4514')\"\n",
              "              title=\"Convert this dataframe to an interactive table.\"\n",
              "              style=\"display:none;\">\n",
              "\n",
              "  <svg xmlns=\"http://www.w3.org/2000/svg\" height=\"24px\"viewBox=\"0 0 24 24\"\n",
              "       width=\"24px\">\n",
              "    <path d=\"M0 0h24v24H0V0z\" fill=\"none\"/>\n",
              "    <path d=\"M18.56 5.44l.94 2.06.94-2.06 2.06-.94-2.06-.94-.94-2.06-.94 2.06-2.06.94zm-11 1L8.5 8.5l.94-2.06 2.06-.94-2.06-.94L8.5 2.5l-.94 2.06-2.06.94zm10 10l.94 2.06.94-2.06 2.06-.94-2.06-.94-.94-2.06-.94 2.06-2.06.94z\"/><path d=\"M17.41 7.96l-1.37-1.37c-.4-.4-.92-.59-1.43-.59-.52 0-1.04.2-1.43.59L10.3 9.45l-7.72 7.72c-.78.78-.78 2.05 0 2.83L4 21.41c.39.39.9.59 1.41.59.51 0 1.02-.2 1.41-.59l7.78-7.78 2.81-2.81c.8-.78.8-2.07 0-2.86zM5.41 20L4 18.59l7.72-7.72 1.47 1.35L5.41 20z\"/>\n",
              "  </svg>\n",
              "      </button>\n",
              "\n",
              "\n",
              "\n",
              "    <div id=\"df-65c61263-fd60-45db-b589-7152eb97778e\">\n",
              "      <button class=\"colab-df-quickchart\" onclick=\"quickchart('df-65c61263-fd60-45db-b589-7152eb97778e')\"\n",
              "              title=\"Suggest charts.\"\n",
              "              style=\"display:none;\">\n",
              "\n",
              "<svg xmlns=\"http://www.w3.org/2000/svg\" height=\"24px\"viewBox=\"0 0 24 24\"\n",
              "     width=\"24px\">\n",
              "    <g>\n",
              "        <path d=\"M19 3H5c-1.1 0-2 .9-2 2v14c0 1.1.9 2 2 2h14c1.1 0 2-.9 2-2V5c0-1.1-.9-2-2-2zM9 17H7v-7h2v7zm4 0h-2V7h2v10zm4 0h-2v-4h2v4z\"/>\n",
              "    </g>\n",
              "</svg>\n",
              "      </button>\n",
              "    </div>\n",
              "\n",
              "<style>\n",
              "  .colab-df-quickchart {\n",
              "    background-color: #E8F0FE;\n",
              "    border: none;\n",
              "    border-radius: 50%;\n",
              "    cursor: pointer;\n",
              "    display: none;\n",
              "    fill: #1967D2;\n",
              "    height: 32px;\n",
              "    padding: 0 0 0 0;\n",
              "    width: 32px;\n",
              "  }\n",
              "\n",
              "  .colab-df-quickchart:hover {\n",
              "    background-color: #E2EBFA;\n",
              "    box-shadow: 0px 1px 2px rgba(60, 64, 67, 0.3), 0px 1px 3px 1px rgba(60, 64, 67, 0.15);\n",
              "    fill: #174EA6;\n",
              "  }\n",
              "\n",
              "  [theme=dark] .colab-df-quickchart {\n",
              "    background-color: #3B4455;\n",
              "    fill: #D2E3FC;\n",
              "  }\n",
              "\n",
              "  [theme=dark] .colab-df-quickchart:hover {\n",
              "    background-color: #434B5C;\n",
              "    box-shadow: 0px 1px 3px 1px rgba(0, 0, 0, 0.15);\n",
              "    filter: drop-shadow(0px 1px 2px rgba(0, 0, 0, 0.3));\n",
              "    fill: #FFFFFF;\n",
              "  }\n",
              "</style>\n",
              "\n",
              "    <script>\n",
              "      async function quickchart(key) {\n",
              "        const containerElement = document.querySelector('#' + key);\n",
              "        const charts = await google.colab.kernel.invokeFunction(\n",
              "            'suggestCharts', [key], {});\n",
              "      }\n",
              "    </script>\n",
              "\n",
              "      <script>\n",
              "\n",
              "function displayQuickchartButton(domScope) {\n",
              "  let quickchartButtonEl =\n",
              "    domScope.querySelector('#df-65c61263-fd60-45db-b589-7152eb97778e button.colab-df-quickchart');\n",
              "  quickchartButtonEl.style.display =\n",
              "    google.colab.kernel.accessAllowed ? 'block' : 'none';\n",
              "}\n",
              "\n",
              "        displayQuickchartButton(document);\n",
              "      </script>\n",
              "      <style>\n",
              "    .colab-df-container {\n",
              "      display:flex;\n",
              "      flex-wrap:wrap;\n",
              "      gap: 12px;\n",
              "    }\n",
              "\n",
              "    .colab-df-convert {\n",
              "      background-color: #E8F0FE;\n",
              "      border: none;\n",
              "      border-radius: 50%;\n",
              "      cursor: pointer;\n",
              "      display: none;\n",
              "      fill: #1967D2;\n",
              "      height: 32px;\n",
              "      padding: 0 0 0 0;\n",
              "      width: 32px;\n",
              "    }\n",
              "\n",
              "    .colab-df-convert:hover {\n",
              "      background-color: #E2EBFA;\n",
              "      box-shadow: 0px 1px 2px rgba(60, 64, 67, 0.3), 0px 1px 3px 1px rgba(60, 64, 67, 0.15);\n",
              "      fill: #174EA6;\n",
              "    }\n",
              "\n",
              "    [theme=dark] .colab-df-convert {\n",
              "      background-color: #3B4455;\n",
              "      fill: #D2E3FC;\n",
              "    }\n",
              "\n",
              "    [theme=dark] .colab-df-convert:hover {\n",
              "      background-color: #434B5C;\n",
              "      box-shadow: 0px 1px 3px 1px rgba(0, 0, 0, 0.15);\n",
              "      filter: drop-shadow(0px 1px 2px rgba(0, 0, 0, 0.3));\n",
              "      fill: #FFFFFF;\n",
              "    }\n",
              "  </style>\n",
              "\n",
              "      <script>\n",
              "        const buttonEl =\n",
              "          document.querySelector('#df-3e66eda5-9e7d-4cb7-9d4b-06b7d1da4514 button.colab-df-convert');\n",
              "        buttonEl.style.display =\n",
              "          google.colab.kernel.accessAllowed ? 'block' : 'none';\n",
              "\n",
              "        async function convertToInteractive(key) {\n",
              "          const element = document.querySelector('#df-3e66eda5-9e7d-4cb7-9d4b-06b7d1da4514');\n",
              "          const dataTable =\n",
              "            await google.colab.kernel.invokeFunction('convertToInteractive',\n",
              "                                                     [key], {});\n",
              "          if (!dataTable) return;\n",
              "\n",
              "          const docLinkHtml = 'Like what you see? Visit the ' +\n",
              "            '<a target=\"_blank\" href=https://colab.research.google.com/notebooks/data_table.ipynb>data table notebook</a>'\n",
              "            + ' to learn more about interactive tables.';\n",
              "          element.innerHTML = '';\n",
              "          dataTable['output_type'] = 'display_data';\n",
              "          await google.colab.output.renderOutput(dataTable, element);\n",
              "          const docLink = document.createElement('div');\n",
              "          docLink.innerHTML = docLinkHtml;\n",
              "          element.appendChild(docLink);\n",
              "        }\n",
              "      </script>\n",
              "    </div>\n",
              "  </div>\n"
            ]
          },
          "metadata": {},
          "execution_count": 200
        }
      ]
    },
    {
      "cell_type": "markdown",
      "source": [
        "## **NOTE** : THIS MODEL IS FIRST IMPLEMENTATION FOR THE RECOMMENDER SYSTEM. THE MODEL CAN BE FURTEHR IMPROVED WHEN BUSINESS FEATURES ARE CONSIDERED. THE BUSINESS FEATURES THAT CAN BE CONSIDERED ARE\n",
        "\n",
        "\n",
        "## 1. LATITUDE\n",
        "## 2. LONGITUDE\n",
        "## 3. OVERALL BUSINESS RATING\n",
        "## 4. REVIEW COUNT\n",
        "## 5. PARKING FEATURES OF RESTAURANT\n",
        "## 6. TAKEOUT IS AVAILABLE IN RESTAURANT OR NOT\n",
        "\n",
        "\n",
        "\n",
        "## AFTER CREATING THE FEATURES FOR EACH DIFFERENT BUSINESS, DATA SHOULD BE CONVERTED INTO APPROPRIATE FORM TO FEED TO THE MODEL , THIS BECOMES INPUT TO THE MODEL AND THE OUTPUT OF THR MODEL ARE THE RATINGS BY THE USER. THERE ARE MULTIPLE TARGETS IN THIS CASE AND MULTITARGET LINEAR REGRESSION CAN BE USED."
      ],
      "metadata": {
        "id": "h68mdbguHzub"
      }
    }
  ]
}