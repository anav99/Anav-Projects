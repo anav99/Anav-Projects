{
 "cells": [
  {
   "cell_type": "markdown",
   "id": "b3d08535",
   "metadata": {},
   "source": [
    "<img src=\"https://raw.githubusercontent.com/afo/data-x-plaksha/master/imgsource/dx_logo.png\" align=\"left\"></img><br><br><br><br>"
   ]
  },
  {
   "cell_type": "markdown",
   "id": "4c408082",
   "metadata": {},
   "source": [
    "## Plaksha SQL assignment"
   ]
  },
  {
   "cell_type": "markdown",
   "id": "7f7d4113-c3a9-47b2-b7df-b844d49abd22",
   "metadata": {},
   "source": [
    "---\n",
    "\n",
    "## Submission details:\n",
    "\n",
    "Please submit this as a Jupyter Notebook and a PDF of your results (both should show output). Also push your solutions to Github.\n",
    "\n",
    "For the submision create a local database with `sqlite3` or `sqlalchemy` in a Jupyter notebook and make the queries either with a cursor object (and then print the results) or by using pandas `pd.read_sql_query()`."
   ]
  },
  {
   "cell_type": "markdown",
   "id": "0c551f03-7eff-43e2-89a7-a53b54098223",
   "metadata": {},
   "source": [
    "___\n",
    "\n",
    "When completing this homework you can experiment with SQL commands by utilizing this great online editor:\n",
    "\n",
    "https://www.w3schools.com/sql/trysql.asp?filename=trysql_select_all\n",
    "\n",
    "There are already some tables in the online Database, namely:\n",
    "\n",
    "`Categories, Employees, OrderDetails, Orders, Products, Shippers, and Suppliers.`\n",
    "\n",
    "If you want you can drop them by running  `DROP TABLE [table-name];` (or just keep them)."
   ]
  },
  {
   "cell_type": "markdown",
   "id": "dccc820f-21b0-4b2c-9ca8-9cb9eab76023",
   "metadata": {},
   "source": [
    "___\n",
    "\n",
    "## Exercises:\n",
    "\n",
    "First create a table called students. It has the columns: 'student_id', 'name', 'major', 'gpa' and 'enrollment_date' We will use a new form of `CREATE TABLE` expression to produce this table.\n",
    "\n",
    "Note that you can improve this and are welcome to do so -- e.g. by specifying for example a PRIMARY KEY and a FOREIGN KEY in Q2 :)\n",
    "\n",
    "    CREATE TABLE students AS\n",
    "        SELECT 1 AS student_id, \"John\" AS name, \"Computer Science\" AS major, 3.5 AS gpa, \"01-01-2022\" AS enrollment_date UNION\n",
    "        SELECT 2, \"Jane\", \"Physics\", 3.8, \"01-02-2022\" UNION\n",
    "        SELECT 3, \"Bob\", \"Engineering\", 3.0, \"01-03-2022\" UNION\n",
    "        SELECT 4, \"Samantha\", \"Physics\", 3.9, \"01-04-2022\" UNION\n",
    "        SELECT 5, \"James\", \"Engineering\", 3.7, \"01-05-2022\" UNION\n",
    "        SELECT 6, \"Emily\", \"Computer Science\", 3.6, \"01-06-2022\" UNION\n",
    "        SELECT 7, \"Michael\", \"Computer Science\", 3.2, \"01-07-2022\" UNION\n",
    "        SELECT 8, \"Jessica\", \"Engineering\", 3.8, \"01-08-2022\" UNION\n",
    "        SELECT 9, \"Jacob\", \"Physics\", 3.4, \"01-09-2022\" UNION\n",
    "        SELECT 10, \"Ashley\", \"Physics\", 3.9, \"01-10-2022\";\n",
    "\n",
    "\n",
    "## Q1 Simple SELECTS (on the students table)\n",
    "1. SELECT all records in the table.\n",
    "2. SELECT students whose major is \"Computer Science\".\n",
    "3. SELECT all unique majors (use SELECT DISTINCT) and order them by name, descending order (i.e. Physics first).\n",
    "4. SELECT all students that have an 'e' in their name and order them by gpa in ascending order.\n",
    "\n",
    "\n",
    "## Q2 Joins\n",
    "\n",
    "Create a new table called courses, which indicates the courses taken by the students. \n",
    "\n",
    "Create the table by running:\n",
    "\t\n",
    "    CREATE TABLE courses AS\n",
    "        SELECT 1 AS course_id, \"Python programming\" AS course_name, 1 AS student_id, \"A\" AS grade UNION\n",
    "        SELECT 2, \"Data Structures\", 2, \"B\" UNION\n",
    "        SELECT 3, \"Database Systems\", 3, \"B\" UNION\n",
    "        SELECT 1, \"Python programming\", 4, \"A\" UNION\n",
    "        SELECT 4, \"Quantum Mechanics\", 5, \"C\" UNION\n",
    "        SELECT 1, \"Python programming\", 6, \"F\" UNION\n",
    "        SELECT 2, \"Data Structures\", 7, \"C\" UNION\n",
    "        SELECT 3, \"Database Systems\", 8, \"A\" UNION\n",
    "        SELECT 4, \"Quantum Mechanics\", 9, \"A\" UNION\n",
    "        SELECT 2, \"Data Structures\", 10, \"F\";\n",
    "\n",
    "1. COUNT the number of unique courses.\n",
    "2. JOIN the tables students and courses and COUNT the number of students with the major Computer Science taking the course Python programming.\n",
    "3. JOIN the tables students and courses and select the students who have grades higher than \"C\", only show their name, major, gpa, course_name and grade.\n",
    "\n",
    "\n",
    "## Q3 Aggregate functions, numerical logic and grouping\n",
    "\n",
    "1. Find the average gpa of all students.\n",
    "2. SELECT the student with the maximum gpa, display only their student_id, major and gpa\n",
    "3. SELECT the student with the minimum gpa, display only their student_id, major and gpa\n",
    "4. SELECT the students with a gpa greater than 3.6 in the majors of \"Physics\" and \"Engineering\", display only their student_id, major and gpa\n",
    "5. Group the students by their major and retrieve the average grade of each major.\n",
    "6. SELECT the top 2 students with the highest GPA in each major and order the results by major in ascending order, then by GPA in descending order"
   ]
  },
  {
   "cell_type": "markdown",
   "id": "3ab84519",
   "metadata": {},
   "source": [
    "# Your solution"
   ]
  },
  {
   "attachments": {},
   "cell_type": "markdown",
   "id": "4f296287",
   "metadata": {},
   "source": [
    "## OPEN CONNECTION TO DATABASE AND CREATE TABLE **STUDENT**"
   ]
  },
  {
   "cell_type": "code",
   "execution_count": 194,
   "id": "c7cff114",
   "metadata": {},
   "outputs": [
    {
     "data": {
      "text/plain": [
       "<sqlite3.Cursor at 0x2317270ea40>"
      ]
     },
     "execution_count": 194,
     "metadata": {},
     "output_type": "execute_result"
    }
   ],
   "source": [
    "import sqlite3\n",
    "\n",
    "connect=sqlite3.connect(\"assignment-3.db\")\n",
    "cursor=connect.cursor()\n",
    "create_query=  \"\"\"CREATE TABLE IF NOT EXISTS students AS\n",
    "        SELECT 1 AS student_id, \"John\" AS name, \"Computer Science\" AS major, 3.5 AS gpa, \"01-01-2022\" AS enrollment_date UNION\n",
    "        SELECT 2, \"Jane\", \"Physics\", 3.8, \"01-02-2022\" UNION\n",
    "        SELECT 3, \"Bob\", \"Engineering\", 3.0, \"01-03-2022\" UNION\n",
    "        SELECT 4, \"Samantha\", \"Physics\", 3.9, \"01-04-2022\" UNION\n",
    "        SELECT 5, \"James\", \"Engineering\", 3.7, \"01-05-2022\" UNION\n",
    "        SELECT 6, \"Emily\", \"Computer Science\", 3.6, \"01-06-2022\" UNION\n",
    "        SELECT 7, \"Michael\", \"Computer Science\", 3.2, \"01-07-2022\" UNION\n",
    "        SELECT 8, \"Jessica\", \"Engineering\", 3.8, \"01-08-2022\" UNION\n",
    "        SELECT 9, \"Jacob\", \"Physics\", 3.4, \"01-09-2022\" UNION\n",
    "        SELECT 10, \"Ashley\", \"Physics\", 3.9, \"01-10-2022\";\"\"\"\n",
    "cursor.execute(create_query)\n"
   ]
  },
  {
   "attachments": {},
   "cell_type": "markdown",
   "id": "e93d37cd",
   "metadata": {},
   "source": [
    "## Q1"
   ]
  },
  {
   "attachments": {},
   "cell_type": "markdown",
   "id": "800b61bd",
   "metadata": {},
   "source": [
    "### 1"
   ]
  },
  {
   "cell_type": "code",
   "execution_count": 195,
   "id": "ea67d39e",
   "metadata": {},
   "outputs": [
    {
     "name": "stdout",
     "output_type": "stream",
     "text": [
      "(1, 'John', 'Computer Science', 3.5, '01-01-2022')\n",
      "(2, 'Jane', 'Physics', 3.8, '01-02-2022')\n",
      "(3, 'Bob', 'Engineering', 3.0, '01-03-2022')\n",
      "(4, 'Samantha', 'Physics', 3.9, '01-04-2022')\n",
      "(5, 'James', 'Engineering', 3.7, '01-05-2022')\n",
      "(6, 'Emily', 'Computer Science', 3.6, '01-06-2022')\n",
      "(7, 'Michael', 'Computer Science', 3.2, '01-07-2022')\n",
      "(8, 'Jessica', 'Engineering', 3.8, '01-08-2022')\n",
      "(9, 'Jacob', 'Physics', 3.4, '01-09-2022')\n",
      "(10, 'Ashley', 'Physics', 3.9, '01-10-2022')\n"
     ]
    }
   ],
   "source": [
    "a1=cursor.execute(\"select * from students;\")\n",
    "for row in a1.fetchall():\n",
    "        print(row)\n",
    "connect.commit()"
   ]
  },
  {
   "attachments": {},
   "cell_type": "markdown",
   "id": "510a191f",
   "metadata": {},
   "source": [
    "### 2"
   ]
  },
  {
   "cell_type": "code",
   "execution_count": 196,
   "id": "a023295f",
   "metadata": {},
   "outputs": [
    {
     "name": "stdout",
     "output_type": "stream",
     "text": [
      "(1, 'John', 'Computer Science', 3.5, '01-01-2022')\n",
      "(6, 'Emily', 'Computer Science', 3.6, '01-06-2022')\n",
      "(7, 'Michael', 'Computer Science', 3.2, '01-07-2022')\n"
     ]
    }
   ],
   "source": [
    "\n",
    "a2=cursor.execute(\"select * from students where major='Computer Science';\")\n",
    "for row in a2.fetchall():\n",
    "        print(row)\n",
    "connect.commit()"
   ]
  },
  {
   "attachments": {},
   "cell_type": "markdown",
   "id": "49a33a51",
   "metadata": {},
   "source": [
    "### 3"
   ]
  },
  {
   "cell_type": "code",
   "execution_count": 197,
   "id": "dd656141",
   "metadata": {},
   "outputs": [
    {
     "name": "stdout",
     "output_type": "stream",
     "text": [
      "('Physics',)\n",
      "('Engineering',)\n",
      "('Computer Science',)\n"
     ]
    }
   ],
   "source": [
    "a3=cursor.execute(\"SELECt DISTINCT major from students order by major DESC;\")\n",
    "for row in a3.fetchall():\n",
    "        print(row)\n",
    "connect.commit()"
   ]
  },
  {
   "attachments": {},
   "cell_type": "markdown",
   "id": "e6d2e04d",
   "metadata": {},
   "source": [
    "### 4"
   ]
  },
  {
   "cell_type": "code",
   "execution_count": 198,
   "id": "e3b805c8",
   "metadata": {},
   "outputs": [
    {
     "name": "stdout",
     "output_type": "stream",
     "text": [
      "(7, 'Michael', 'Computer Science', 3.2, '01-07-2022')\n",
      "(6, 'Emily', 'Computer Science', 3.6, '01-06-2022')\n",
      "(5, 'James', 'Engineering', 3.7, '01-05-2022')\n",
      "(2, 'Jane', 'Physics', 3.8, '01-02-2022')\n",
      "(8, 'Jessica', 'Engineering', 3.8, '01-08-2022')\n",
      "(10, 'Ashley', 'Physics', 3.9, '01-10-2022')\n"
     ]
    }
   ],
   "source": [
    "a4=cursor.execute(\"SELECt * FROM students WHERE name LIKE '%e%' ORDER BY gpa;\")\n",
    "for row in a4.fetchall():\n",
    "        print(row)\n",
    "connect.commit()\n"
   ]
  },
  {
   "attachments": {},
   "cell_type": "markdown",
   "id": "a2897a25",
   "metadata": {},
   "source": [
    "## CREATE TABLE COURSES"
   ]
  },
  {
   "cell_type": "code",
   "execution_count": 199,
   "id": "8d0cb353",
   "metadata": {},
   "outputs": [
    {
     "data": {
      "text/plain": [
       "<sqlite3.Cursor at 0x2317270ea40>"
      ]
     },
     "execution_count": 199,
     "metadata": {},
     "output_type": "execute_result"
    }
   ],
   "source": [
    "\n",
    "\n",
    "create_query=  \"\"\"     CREATE TABLE IF NOT EXISTS courses AS\n",
    "        SELECT 1 AS course_id, \"Python programming\" AS course_name, 1 AS student_id, \"A\" AS grade UNION\n",
    "        SELECT 2, \"Data Structures\", 2, \"B\" UNION\n",
    "        SELECT 3, \"Database Systems\", 3, \"B\" UNION\n",
    "        SELECT 1, \"Python programming\", 4, \"A\" UNION\n",
    "        SELECT 4, \"Quantum Mechanics\", 5, \"C\" UNION\n",
    "        SELECT 1, \"Python programming\", 6, \"F\" UNION\n",
    "        SELECT 2, \"Data Structures\", 7, \"C\" UNION\n",
    "        SELECT 3, \"Database Systems\", 8, \"A\" UNION\n",
    "        SELECT 4, \"Quantum Mechanics\", 9, \"A\" UNION\n",
    "        SELECT 2, \"Data Structures\", 10, \"F\";\"\"\"\n",
    "cursor.execute(create_query)"
   ]
  },
  {
   "attachments": {},
   "cell_type": "markdown",
   "id": "f952e889",
   "metadata": {},
   "source": [
    "## Q2"
   ]
  },
  {
   "attachments": {},
   "cell_type": "markdown",
   "id": "5691b83d",
   "metadata": {},
   "source": [
    "### 1"
   ]
  },
  {
   "cell_type": "code",
   "execution_count": 200,
   "id": "262f9344",
   "metadata": {},
   "outputs": [
    {
     "name": "stdout",
     "output_type": "stream",
     "text": [
      "(4,)\n"
     ]
    }
   ],
   "source": [
    "b1=cursor.execute(\"SELECt COUNT(DISTINCT(course_id)) FROM courses;\")\n",
    "for row in b1.fetchall():\n",
    "        print(row)\n",
    "connect.commit()"
   ]
  },
  {
   "attachments": {},
   "cell_type": "markdown",
   "id": "df7e736a",
   "metadata": {},
   "source": [
    "### 2"
   ]
  },
  {
   "cell_type": "code",
   "execution_count": 201,
   "id": "e8c4c581",
   "metadata": {},
   "outputs": [
    {
     "name": "stdout",
     "output_type": "stream",
     "text": [
      "(2,)\n"
     ]
    }
   ],
   "source": [
    "b2=cursor.execute(\"SELECt COUNT(DISTINCT(s.student_id)) FROM students s,courses c ON s.student_id=c.student_id WHERE s.major='Computer Science' and c.course_name='Python programming';\")\n",
    "for row in b2.fetchall():\n",
    "        print(row)\n",
    "connect.commit()"
   ]
  },
  {
   "attachments": {},
   "cell_type": "markdown",
   "id": "abf11f0d",
   "metadata": {},
   "source": [
    "### 3"
   ]
  },
  {
   "cell_type": "code",
   "execution_count": 202,
   "id": "fcaaf64c",
   "metadata": {},
   "outputs": [
    {
     "name": "stdout",
     "output_type": "stream",
     "text": [
      "('John', 'Computer Science', 3.5, 'Python programming', 'A')\n",
      "('Samantha', 'Physics', 3.9, 'Python programming', 'A')\n",
      "('Jane', 'Physics', 3.8, 'Data Structures', 'B')\n",
      "('Bob', 'Engineering', 3.0, 'Database Systems', 'B')\n",
      "('Jessica', 'Engineering', 3.8, 'Database Systems', 'A')\n",
      "('Jacob', 'Physics', 3.4, 'Quantum Mechanics', 'A')\n"
     ]
    }
   ],
   "source": [
    "b3=cursor.execute(\"SELECt s.name,s.major,s.gpa,c.course_name,c.grade FROM students s,courses c ON s.student_id=c.student_id WHERE c.grade<'C';\")\n",
    "for row in b3.fetchall():\n",
    "        print(row)\n",
    "connect.commit()"
   ]
  },
  {
   "attachments": {},
   "cell_type": "markdown",
   "id": "03a09490",
   "metadata": {},
   "source": [
    "## Q3"
   ]
  },
  {
   "attachments": {},
   "cell_type": "markdown",
   "id": "114d04db",
   "metadata": {},
   "source": [
    "### 1"
   ]
  },
  {
   "cell_type": "code",
   "execution_count": 203,
   "id": "d0f21dcf",
   "metadata": {},
   "outputs": [
    {
     "name": "stdout",
     "output_type": "stream",
     "text": [
      "(3.5800000000000005,)\n"
     ]
    }
   ],
   "source": [
    "c1=cursor.execute(\"SELECt AVG(gpa) FROM students;\")\n",
    "for row in c1.fetchall():\n",
    "        print(row)\n",
    "connect.commit()"
   ]
  },
  {
   "attachments": {},
   "cell_type": "markdown",
   "id": "7ae4c28a",
   "metadata": {},
   "source": [
    "### 2"
   ]
  },
  {
   "cell_type": "code",
   "execution_count": 204,
   "id": "4ddfc80a",
   "metadata": {},
   "outputs": [
    {
     "name": "stdout",
     "output_type": "stream",
     "text": [
      "(4, 'Physics', 3.9)\n",
      "(10, 'Physics', 3.9)\n"
     ]
    }
   ],
   "source": [
    "c2=cursor.execute(\"SELECT student_id,major,gpa FROM students WHERE gpa IN (SELECT MAX(gpa) FROM students);\")\n",
    "for row in c2.fetchall():\n",
    "        print(row)\n",
    "connect.commit()"
   ]
  },
  {
   "attachments": {},
   "cell_type": "markdown",
   "id": "fd0e5ab6",
   "metadata": {},
   "source": [
    "### 3"
   ]
  },
  {
   "cell_type": "code",
   "execution_count": 205,
   "id": "ecaf5778",
   "metadata": {},
   "outputs": [
    {
     "name": "stdout",
     "output_type": "stream",
     "text": [
      "(3, 'Engineering', 3.0)\n"
     ]
    }
   ],
   "source": [
    "c3=cursor.execute(\"SELECT student_id,major,gpa FROM students WHERE gpa IN (SELECT MIN(gpa) FROM students);\")\n",
    "for row in c3.fetchall():\n",
    "        print(row)\n",
    "connect.commit()"
   ]
  },
  {
   "attachments": {},
   "cell_type": "markdown",
   "id": "bb96342c",
   "metadata": {},
   "source": [
    "### 4"
   ]
  },
  {
   "cell_type": "code",
   "execution_count": 206,
   "id": "cc226964",
   "metadata": {},
   "outputs": [
    {
     "name": "stdout",
     "output_type": "stream",
     "text": [
      "(2, 'Physics', 3.8)\n",
      "(4, 'Physics', 3.9)\n",
      "(5, 'Engineering', 3.7)\n",
      "(8, 'Engineering', 3.8)\n",
      "(10, 'Physics', 3.9)\n"
     ]
    }
   ],
   "source": [
    "c4=cursor.execute(\"SELECT student_id,major,gpa FROM students WHERE gpa>3.6 and major in ('Physics','Engineering');\")\n",
    "for row in c4.fetchall():\n",
    "        print(row)\n",
    "connect.commit()"
   ]
  },
  {
   "attachments": {},
   "cell_type": "markdown",
   "id": "9e0430ac",
   "metadata": {},
   "source": [
    "### 5"
   ]
  },
  {
   "cell_type": "code",
   "execution_count": 207,
   "id": "4080923a",
   "metadata": {},
   "outputs": [
    {
     "name": "stdout",
     "output_type": "stream",
     "text": [
      "(3.4333333333333336,)\n",
      "(3.5,)\n",
      "(3.75,)\n"
     ]
    }
   ],
   "source": [
    "c5=cursor.execute(\"SELECt AVG(gpa) FROM STUDENTS GROUP BY major;\")\n",
    "for row in c5.fetchall():\n",
    "        print(row)\n",
    "connect.commit()"
   ]
  },
  {
   "attachments": {},
   "cell_type": "markdown",
   "id": "55768dea",
   "metadata": {},
   "source": [
    "### 6"
   ]
  },
  {
   "cell_type": "code",
   "execution_count": 208,
   "id": "1493fc8b",
   "metadata": {},
   "outputs": [
    {
     "name": "stdout",
     "output_type": "stream",
     "text": [
      "(6, 'Computer Science', 3.6)\n",
      "(1, 'Computer Science', 3.5)\n",
      "(8, 'Engineering', 3.8)\n",
      "(5, 'Engineering', 3.7)\n",
      "(4, 'Physics', 3.9)\n",
      "(10, 'Physics', 3.9)\n"
     ]
    }
   ],
   "source": [
    "query=\"\"\"WITH rows AS\n",
    "(SELECT *,ROW_NUMBER() OVER(PARTITION BY major ORDER BY major ASC,gpa DESC) as position  FROM students)  \n",
    "SELECT student_id,major,gpa FROM rows WHERE position<3;\"\"\"\n",
    "c6=cursor.execute(query)\n",
    "for row in c6.fetchall():\n",
    "        print(row)\n",
    "connect.commit()"
   ]
  },
  {
   "attachments": {},
   "cell_type": "markdown",
   "id": "a336c51a",
   "metadata": {},
   "source": [
    "## CLOSING THE CONNECTION TO DATABASE"
   ]
  },
  {
   "cell_type": "code",
   "execution_count": 209,
   "id": "2a9512f1",
   "metadata": {},
   "outputs": [],
   "source": [
    "connect.close()"
   ]
  }
 ],
 "metadata": {
  "kernelspec": {
   "display_name": "Python 3",
   "language": "python",
   "name": "python3"
  },
  "language_info": {
   "codemirror_mode": {
    "name": "ipython",
    "version": 3
   },
   "file_extension": ".py",
   "mimetype": "text/x-python",
   "name": "python",
   "nbconvert_exporter": "python",
   "pygments_lexer": "ipython3",
   "version": "3.10.2"
  },
  "vscode": {
   "interpreter": {
    "hash": "369f2c481f4da34e4445cda3fffd2e751bd1c4d706f27375911949ba6bb62e1c"
   }
  }
 },
 "nbformat": 4,
 "nbformat_minor": 5
}
